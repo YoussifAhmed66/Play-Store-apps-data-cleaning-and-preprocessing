{
 "cells": [
  {
   "cell_type": "markdown",
   "id": "3e2f6855",
   "metadata": {},
   "source": [
    "# Importing libraries and data"
   ]
  },
  {
   "cell_type": "code",
   "execution_count": 1,
   "id": "9a120784",
   "metadata": {},
   "outputs": [],
   "source": [
    "import pandas as pd\n",
    "import numpy as np\n",
    "import matplotlib.pyplot as plt\n",
    "import seaborn as sns"
   ]
  },
  {
   "cell_type": "code",
   "execution_count": 2,
   "id": "8756e44d",
   "metadata": {},
   "outputs": [
    {
     "data": {
      "text/html": [
       "<div>\n",
       "<style scoped>\n",
       "    .dataframe tbody tr th:only-of-type {\n",
       "        vertical-align: middle;\n",
       "    }\n",
       "\n",
       "    .dataframe tbody tr th {\n",
       "        vertical-align: top;\n",
       "    }\n",
       "\n",
       "    .dataframe thead th {\n",
       "        text-align: right;\n",
       "    }\n",
       "</style>\n",
       "<table border=\"1\" class=\"dataframe\">\n",
       "  <thead>\n",
       "    <tr style=\"text-align: right;\">\n",
       "      <th></th>\n",
       "      <th>App</th>\n",
       "      <th>Category</th>\n",
       "      <th>Rating</th>\n",
       "      <th>Reviews</th>\n",
       "      <th>Size</th>\n",
       "      <th>Installs</th>\n",
       "      <th>Type</th>\n",
       "      <th>Price</th>\n",
       "      <th>Content Rating</th>\n",
       "      <th>Genres</th>\n",
       "      <th>Last Updated</th>\n",
       "      <th>Current Ver</th>\n",
       "      <th>Android Ver</th>\n",
       "    </tr>\n",
       "  </thead>\n",
       "  <tbody>\n",
       "    <tr>\n",
       "      <th>7758</th>\n",
       "      <td>Webmail web mobile app</td>\n",
       "      <td>TOOLS</td>\n",
       "      <td>2.3</td>\n",
       "      <td>395</td>\n",
       "      <td>2.6M</td>\n",
       "      <td>100,000+</td>\n",
       "      <td>Free</td>\n",
       "      <td>0</td>\n",
       "      <td>Everyone</td>\n",
       "      <td>Tools</td>\n",
       "      <td>August 5, 2018</td>\n",
       "      <td>4.2</td>\n",
       "      <td>4.1 and up</td>\n",
       "    </tr>\n",
       "    <tr>\n",
       "      <th>4947</th>\n",
       "      <td>AdClear Ad blocker for Samsung</td>\n",
       "      <td>TOOLS</td>\n",
       "      <td>4.2</td>\n",
       "      <td>1586</td>\n",
       "      <td>1.5M</td>\n",
       "      <td>500,000+</td>\n",
       "      <td>Free</td>\n",
       "      <td>0</td>\n",
       "      <td>Everyone</td>\n",
       "      <td>Tools</td>\n",
       "      <td>September 7, 2017</td>\n",
       "      <td>1.0.5</td>\n",
       "      <td>5.0 and up</td>\n",
       "    </tr>\n",
       "    <tr>\n",
       "      <th>641</th>\n",
       "      <td>The DJ - Match with People</td>\n",
       "      <td>DATING</td>\n",
       "      <td>NaN</td>\n",
       "      <td>0</td>\n",
       "      <td>9.8M</td>\n",
       "      <td>50+</td>\n",
       "      <td>Free</td>\n",
       "      <td>0</td>\n",
       "      <td>Mature 17+</td>\n",
       "      <td>Dating</td>\n",
       "      <td>August 2, 2018</td>\n",
       "      <td>1.2</td>\n",
       "      <td>4.1 and up</td>\n",
       "    </tr>\n",
       "    <tr>\n",
       "      <th>3192</th>\n",
       "      <td>Skyscanner</td>\n",
       "      <td>TRAVEL_AND_LOCAL</td>\n",
       "      <td>4.5</td>\n",
       "      <td>481546</td>\n",
       "      <td>29M</td>\n",
       "      <td>10,000,000+</td>\n",
       "      <td>Free</td>\n",
       "      <td>0</td>\n",
       "      <td>Everyone</td>\n",
       "      <td>Travel &amp; Local</td>\n",
       "      <td>August 6, 2018</td>\n",
       "      <td>5.48</td>\n",
       "      <td>4.4 and up</td>\n",
       "    </tr>\n",
       "    <tr>\n",
       "      <th>7504</th>\n",
       "      <td>FREE CHATS C.L.</td>\n",
       "      <td>COMMUNICATION</td>\n",
       "      <td>NaN</td>\n",
       "      <td>4</td>\n",
       "      <td>3.4M</td>\n",
       "      <td>10+</td>\n",
       "      <td>Paid</td>\n",
       "      <td>$0.99</td>\n",
       "      <td>Mature 17+</td>\n",
       "      <td>Communication</td>\n",
       "      <td>February 12, 2018</td>\n",
       "      <td>11</td>\n",
       "      <td>4.0.3 and up</td>\n",
       "    </tr>\n",
       "  </tbody>\n",
       "</table>\n",
       "</div>"
      ],
      "text/plain": [
       "                                 App          Category  Rating Reviews  Size  \\\n",
       "7758          Webmail web mobile app             TOOLS     2.3     395  2.6M   \n",
       "4947  AdClear Ad blocker for Samsung             TOOLS     4.2    1586  1.5M   \n",
       "641       The DJ - Match with People            DATING     NaN       0  9.8M   \n",
       "3192                      Skyscanner  TRAVEL_AND_LOCAL     4.5  481546   29M   \n",
       "7504                 FREE CHATS C.L.     COMMUNICATION     NaN       4  3.4M   \n",
       "\n",
       "         Installs  Type  Price Content Rating          Genres  \\\n",
       "7758     100,000+  Free      0       Everyone           Tools   \n",
       "4947     500,000+  Free      0       Everyone           Tools   \n",
       "641           50+  Free      0     Mature 17+          Dating   \n",
       "3192  10,000,000+  Free      0       Everyone  Travel & Local   \n",
       "7504          10+  Paid  $0.99     Mature 17+   Communication   \n",
       "\n",
       "           Last Updated Current Ver   Android Ver  \n",
       "7758     August 5, 2018         4.2    4.1 and up  \n",
       "4947  September 7, 2017       1.0.5    5.0 and up  \n",
       "641      August 2, 2018         1.2    4.1 and up  \n",
       "3192     August 6, 2018        5.48    4.4 and up  \n",
       "7504  February 12, 2018          11  4.0.3 and up  "
      ]
     },
     "execution_count": 2,
     "metadata": {},
     "output_type": "execute_result"
    }
   ],
   "source": [
    "df = pd.read_csv('googleplaystore.csv')\n",
    "df.sample(5)"
   ]
  },
  {
   "cell_type": "code",
   "execution_count": 3,
   "id": "a1ac9af7",
   "metadata": {},
   "outputs": [
    {
     "data": {
      "text/plain": [
       "array(['M', 'e', 'k', '+'], dtype=object)"
      ]
     },
     "execution_count": 3,
     "metadata": {},
     "output_type": "execute_result"
    }
   ],
   "source": [
    "df['Size'].str[-1].unique()"
   ]
  },
  {
   "cell_type": "markdown",
   "id": "1c6c7f42",
   "metadata": {},
   "source": [
    "# Data Cleaning"
   ]
  },
  {
   "cell_type": "markdown",
   "id": "90974a1a",
   "metadata": {},
   "source": [
    "## 1.1 Investigation"
   ]
  },
  {
   "cell_type": "code",
   "execution_count": 4,
   "id": "738d0b70",
   "metadata": {},
   "outputs": [
    {
     "name": "stdout",
     "output_type": "stream",
     "text": [
      "<class 'pandas.core.frame.DataFrame'>\n",
      "RangeIndex: 10841 entries, 0 to 10840\n",
      "Data columns (total 13 columns):\n",
      " #   Column          Non-Null Count  Dtype  \n",
      "---  ------          --------------  -----  \n",
      " 0   App             10841 non-null  object \n",
      " 1   Category        10841 non-null  object \n",
      " 2   Rating          9367 non-null   float64\n",
      " 3   Reviews         10841 non-null  object \n",
      " 4   Size            10841 non-null  object \n",
      " 5   Installs        10841 non-null  object \n",
      " 6   Type            10840 non-null  object \n",
      " 7   Price           10841 non-null  object \n",
      " 8   Content Rating  10840 non-null  object \n",
      " 9   Genres          10841 non-null  object \n",
      " 10  Last Updated    10841 non-null  object \n",
      " 11  Current Ver     10833 non-null  object \n",
      " 12  Android Ver     10838 non-null  object \n",
      "dtypes: float64(1), object(12)\n",
      "memory usage: 1.1+ MB\n"
     ]
    }
   ],
   "source": [
    "df.info()"
   ]
  },
  {
   "cell_type": "code",
   "execution_count": 5,
   "id": "13f79598",
   "metadata": {},
   "outputs": [
    {
     "data": {
      "text/plain": [
       "np.int64(483)"
      ]
     },
     "execution_count": 5,
     "metadata": {},
     "output_type": "execute_result"
    }
   ],
   "source": [
    "df.duplicated().sum()"
   ]
  },
  {
   "cell_type": "code",
   "execution_count": 6,
   "id": "99266dcf",
   "metadata": {},
   "outputs": [
    {
     "data": {
      "text/html": [
       "<div>\n",
       "<style scoped>\n",
       "    .dataframe tbody tr th:only-of-type {\n",
       "        vertical-align: middle;\n",
       "    }\n",
       "\n",
       "    .dataframe tbody tr th {\n",
       "        vertical-align: top;\n",
       "    }\n",
       "\n",
       "    .dataframe thead th {\n",
       "        text-align: right;\n",
       "    }\n",
       "</style>\n",
       "<table border=\"1\" class=\"dataframe\">\n",
       "  <thead>\n",
       "    <tr style=\"text-align: right;\">\n",
       "      <th></th>\n",
       "      <th>Rating</th>\n",
       "    </tr>\n",
       "  </thead>\n",
       "  <tbody>\n",
       "    <tr>\n",
       "      <th>count</th>\n",
       "      <td>9367.000000</td>\n",
       "    </tr>\n",
       "    <tr>\n",
       "      <th>mean</th>\n",
       "      <td>4.193338</td>\n",
       "    </tr>\n",
       "    <tr>\n",
       "      <th>std</th>\n",
       "      <td>0.537431</td>\n",
       "    </tr>\n",
       "    <tr>\n",
       "      <th>min</th>\n",
       "      <td>1.000000</td>\n",
       "    </tr>\n",
       "    <tr>\n",
       "      <th>25%</th>\n",
       "      <td>4.000000</td>\n",
       "    </tr>\n",
       "    <tr>\n",
       "      <th>50%</th>\n",
       "      <td>4.300000</td>\n",
       "    </tr>\n",
       "    <tr>\n",
       "      <th>75%</th>\n",
       "      <td>4.500000</td>\n",
       "    </tr>\n",
       "    <tr>\n",
       "      <th>max</th>\n",
       "      <td>19.000000</td>\n",
       "    </tr>\n",
       "  </tbody>\n",
       "</table>\n",
       "</div>"
      ],
      "text/plain": [
       "            Rating\n",
       "count  9367.000000\n",
       "mean      4.193338\n",
       "std       0.537431\n",
       "min       1.000000\n",
       "25%       4.000000\n",
       "50%       4.300000\n",
       "75%       4.500000\n",
       "max      19.000000"
      ]
     },
     "execution_count": 6,
     "metadata": {},
     "output_type": "execute_result"
    }
   ],
   "source": [
    "df.describe()"
   ]
  },
  {
   "cell_type": "markdown",
   "id": "92248d54",
   "metadata": {},
   "source": [
    "#### Notes\n",
    "- 483 duplicated row\n",
    "- `Price`, `Size`, and `Android Ver` columns are mixed with string \n",
    "    - `Size` column is in multiple units\n",
    "    - `Size` and `Android Ver` columns have rows with the content \"Varies with device\"\n",
    "- `Last Updated` column needs to be converted to date\n",
    "- `Reviews` column needs to be converted to integer\n",
    "- `Installs` column needs to be converted to integer with removing '+'\n",
    "- `Current Ver` column won't be converted to float since it is refers to the development of each app indinvidually"
   ]
  },
  {
   "cell_type": "markdown",
   "id": "64a393cc",
   "metadata": {},
   "source": [
    "## 1.2 Solving data issues"
   ]
  },
  {
   "cell_type": "markdown",
   "id": "93574f57",
   "metadata": {},
   "source": [
    "### Dropping duplicated Rows"
   ]
  },
  {
   "cell_type": "code",
   "execution_count": 7,
   "id": "3ab8eeca",
   "metadata": {},
   "outputs": [
    {
     "data": {
      "text/plain": [
       "np.int64(0)"
      ]
     },
     "execution_count": 7,
     "metadata": {},
     "output_type": "execute_result"
    }
   ],
   "source": [
    "df.drop_duplicates(inplace=True)\n",
    "df.reset_index(drop=True, inplace=True)\n",
    "df.duplicated().sum()"
   ]
  },
  {
   "cell_type": "markdown",
   "id": "03976d2d",
   "metadata": {},
   "source": [
    "### Working with the Size column\n"
   ]
  },
  {
   "cell_type": "code",
   "execution_count": 8,
   "id": "4bd1ac4f",
   "metadata": {},
   "outputs": [
    {
     "data": {
      "text/plain": [
       "Size\n",
       "Varies with device    1526\n",
       "11M                    188\n",
       "13M                    186\n",
       "12M                    186\n",
       "14M                    182\n",
       "                      ... \n",
       "552k                     1\n",
       "885k                     1\n",
       "1020k                    1\n",
       "582k                     1\n",
       "619k                     1\n",
       "Name: count, Length: 462, dtype: int64"
      ]
     },
     "execution_count": 8,
     "metadata": {},
     "output_type": "execute_result"
    }
   ],
   "source": [
    "df['Size'].value_counts()"
   ]
  },
  {
   "cell_type": "code",
   "execution_count": 9,
   "id": "6ee5e3f7",
   "metadata": {},
   "outputs": [
    {
     "data": {
      "text/html": [
       "<div>\n",
       "<style scoped>\n",
       "    .dataframe tbody tr th:only-of-type {\n",
       "        vertical-align: middle;\n",
       "    }\n",
       "\n",
       "    .dataframe tbody tr th {\n",
       "        vertical-align: top;\n",
       "    }\n",
       "\n",
       "    .dataframe thead th {\n",
       "        text-align: right;\n",
       "    }\n",
       "</style>\n",
       "<table border=\"1\" class=\"dataframe\">\n",
       "  <thead>\n",
       "    <tr style=\"text-align: right;\">\n",
       "      <th></th>\n",
       "      <th>App</th>\n",
       "      <th>Category</th>\n",
       "      <th>Rating</th>\n",
       "      <th>Reviews</th>\n",
       "      <th>Size</th>\n",
       "      <th>Installs</th>\n",
       "      <th>Type</th>\n",
       "      <th>Price</th>\n",
       "      <th>Content Rating</th>\n",
       "      <th>Genres</th>\n",
       "      <th>Last Updated</th>\n",
       "      <th>Current Ver</th>\n",
       "      <th>Android Ver</th>\n",
       "    </tr>\n",
       "  </thead>\n",
       "  <tbody>\n",
       "    <tr>\n",
       "      <th>2941</th>\n",
       "      <td>Evie Launcher</td>\n",
       "      <td>PERSONALIZATION</td>\n",
       "      <td>4.7</td>\n",
       "      <td>139258</td>\n",
       "      <td>Varies with device</td>\n",
       "      <td>5,000,000+</td>\n",
       "      <td>Free</td>\n",
       "      <td>0</td>\n",
       "      <td>Everyone</td>\n",
       "      <td>Personalization</td>\n",
       "      <td>August 3, 2018</td>\n",
       "      <td>Varies with device</td>\n",
       "      <td>4.4 and up</td>\n",
       "    </tr>\n",
       "    <tr>\n",
       "      <th>2304</th>\n",
       "      <td>Snapchat</td>\n",
       "      <td>SOCIAL</td>\n",
       "      <td>4.0</td>\n",
       "      <td>17014705</td>\n",
       "      <td>Varies with device</td>\n",
       "      <td>500,000,000+</td>\n",
       "      <td>Free</td>\n",
       "      <td>0</td>\n",
       "      <td>Teen</td>\n",
       "      <td>Social</td>\n",
       "      <td>July 30, 2018</td>\n",
       "      <td>Varies with device</td>\n",
       "      <td>Varies with device</td>\n",
       "    </tr>\n",
       "    <tr>\n",
       "      <th>8663</th>\n",
       "      <td>Madden NFL Football</td>\n",
       "      <td>FAMILY</td>\n",
       "      <td>4.5</td>\n",
       "      <td>1455952</td>\n",
       "      <td>Varies with device</td>\n",
       "      <td>10,000,000+</td>\n",
       "      <td>Free</td>\n",
       "      <td>0</td>\n",
       "      <td>Everyone</td>\n",
       "      <td>Sports;Action &amp; Adventure</td>\n",
       "      <td>May 15, 2018</td>\n",
       "      <td>4.3.6</td>\n",
       "      <td>4.0 and up</td>\n",
       "    </tr>\n",
       "    <tr>\n",
       "      <th>250</th>\n",
       "      <td>join.me - Simple Meetings</td>\n",
       "      <td>BUSINESS</td>\n",
       "      <td>4.0</td>\n",
       "      <td>6989</td>\n",
       "      <td>Varies with device</td>\n",
       "      <td>1,000,000+</td>\n",
       "      <td>Free</td>\n",
       "      <td>0</td>\n",
       "      <td>Everyone</td>\n",
       "      <td>Business</td>\n",
       "      <td>July 16, 2018</td>\n",
       "      <td>4.3.0.508</td>\n",
       "      <td>4.4 and up</td>\n",
       "    </tr>\n",
       "    <tr>\n",
       "      <th>8619</th>\n",
       "      <td>Drugs Dz - Algeria</td>\n",
       "      <td>MEDICAL</td>\n",
       "      <td>4.4</td>\n",
       "      <td>187</td>\n",
       "      <td>Varies with device</td>\n",
       "      <td>10,000+</td>\n",
       "      <td>Free</td>\n",
       "      <td>0</td>\n",
       "      <td>Everyone</td>\n",
       "      <td>Medical</td>\n",
       "      <td>July 29, 2017</td>\n",
       "      <td>0.0.7</td>\n",
       "      <td>Varies with device</td>\n",
       "    </tr>\n",
       "  </tbody>\n",
       "</table>\n",
       "</div>"
      ],
      "text/plain": [
       "                            App         Category  Rating   Reviews  \\\n",
       "2941              Evie Launcher  PERSONALIZATION     4.7    139258   \n",
       "2304                   Snapchat           SOCIAL     4.0  17014705   \n",
       "8663        Madden NFL Football           FAMILY     4.5   1455952   \n",
       "250   join.me - Simple Meetings         BUSINESS     4.0      6989   \n",
       "8619         Drugs Dz - Algeria          MEDICAL     4.4       187   \n",
       "\n",
       "                    Size      Installs  Type Price Content Rating  \\\n",
       "2941  Varies with device    5,000,000+  Free     0       Everyone   \n",
       "2304  Varies with device  500,000,000+  Free     0           Teen   \n",
       "8663  Varies with device   10,000,000+  Free     0       Everyone   \n",
       "250   Varies with device    1,000,000+  Free     0       Everyone   \n",
       "8619  Varies with device       10,000+  Free     0       Everyone   \n",
       "\n",
       "                         Genres    Last Updated         Current Ver  \\\n",
       "2941            Personalization  August 3, 2018  Varies with device   \n",
       "2304                     Social   July 30, 2018  Varies with device   \n",
       "8663  Sports;Action & Adventure    May 15, 2018               4.3.6   \n",
       "250                    Business   July 16, 2018           4.3.0.508   \n",
       "8619                    Medical   July 29, 2017               0.0.7   \n",
       "\n",
       "             Android Ver  \n",
       "2941          4.4 and up  \n",
       "2304  Varies with device  \n",
       "8663          4.0 and up  \n",
       "250           4.4 and up  \n",
       "8619  Varies with device  "
      ]
     },
     "execution_count": 9,
     "metadata": {},
     "output_type": "execute_result"
    }
   ],
   "source": [
    "df[df['Size'].str.endswith('e')].sample(5)"
   ]
  },
  {
   "cell_type": "code",
   "execution_count": 10,
   "id": "9739e0e3",
   "metadata": {},
   "outputs": [
    {
     "data": {
      "text/html": [
       "<div>\n",
       "<style scoped>\n",
       "    .dataframe tbody tr th:only-of-type {\n",
       "        vertical-align: middle;\n",
       "    }\n",
       "\n",
       "    .dataframe tbody tr th {\n",
       "        vertical-align: top;\n",
       "    }\n",
       "\n",
       "    .dataframe thead th {\n",
       "        text-align: right;\n",
       "    }\n",
       "</style>\n",
       "<table border=\"1\" class=\"dataframe\">\n",
       "  <thead>\n",
       "    <tr style=\"text-align: right;\">\n",
       "      <th></th>\n",
       "      <th>App</th>\n",
       "      <th>Category</th>\n",
       "      <th>Rating</th>\n",
       "      <th>Reviews</th>\n",
       "      <th>Size</th>\n",
       "      <th>Installs</th>\n",
       "      <th>Type</th>\n",
       "      <th>Price</th>\n",
       "      <th>Content Rating</th>\n",
       "      <th>Genres</th>\n",
       "      <th>Last Updated</th>\n",
       "      <th>Current Ver</th>\n",
       "      <th>Android Ver</th>\n",
       "    </tr>\n",
       "  </thead>\n",
       "  <tbody>\n",
       "    <tr>\n",
       "      <th>9990</th>\n",
       "      <td>Life Made WI-Fi Touchscreen Photo Frame</td>\n",
       "      <td>1.9</td>\n",
       "      <td>19.0</td>\n",
       "      <td>3.0M</td>\n",
       "      <td>1,000+</td>\n",
       "      <td>Free</td>\n",
       "      <td>0</td>\n",
       "      <td>Everyone</td>\n",
       "      <td>NaN</td>\n",
       "      <td>February 11, 2018</td>\n",
       "      <td>1.0.19</td>\n",
       "      <td>4.0 and up</td>\n",
       "      <td>NaN</td>\n",
       "    </tr>\n",
       "  </tbody>\n",
       "</table>\n",
       "</div>"
      ],
      "text/plain": [
       "                                          App Category  Rating Reviews  \\\n",
       "9990  Life Made WI-Fi Touchscreen Photo Frame      1.9    19.0    3.0M   \n",
       "\n",
       "        Size Installs Type     Price Content Rating             Genres  \\\n",
       "9990  1,000+     Free    0  Everyone            NaN  February 11, 2018   \n",
       "\n",
       "     Last Updated Current Ver Android Ver  \n",
       "9990       1.0.19  4.0 and up         NaN  "
      ]
     },
     "execution_count": 10,
     "metadata": {},
     "output_type": "execute_result"
    }
   ],
   "source": [
    "df[df['Size'].str.endswith('+')]"
   ]
  },
  {
   "cell_type": "markdown",
   "id": "d39c43ba",
   "metadata": {},
   "source": [
    "#### So i have noticed that this row is shifted to the right starting from the category "
   ]
  },
  {
   "cell_type": "code",
   "execution_count": 11,
   "id": "8b7c7f98",
   "metadata": {},
   "outputs": [
    {
     "name": "stderr",
     "output_type": "stream",
     "text": [
      "C:\\Users\\Youssif\\AppData\\Local\\Temp\\ipykernel_12060\\903078688.py:3: FutureWarning: Series.__getitem__ treating keys as positions is deprecated. In a future version, integer keys will always be treated as labels (consistent with DataFrame behavior). To access a value by position, use `ser.iloc[pos]`\n",
      "  new_row = [row[0]] + [np.nan] + list(row[1:-1])   # Takes from the second value to the one before last since the last is null\n",
      "C:\\Users\\Youssif\\AppData\\Local\\Temp\\ipykernel_12060\\903078688.py:4: FutureWarning: Setting an item of incompatible dtype is deprecated and will raise an error in a future version of pandas. Value '1.9' has dtype incompatible with float64, please explicitly cast to a compatible dtype first.\n",
      "  df.iloc[9990] = new_row\n"
     ]
    }
   ],
   "source": [
    "# Fixing the shift in the row by keeping the first value which is the name then add null value to the category then the rest of the row\n",
    "row = df.iloc[9990].copy()\n",
    "new_row = [row[0]] + [np.nan] + list(row[1:-1])   # Takes from the second value to the one before last since the last is null\n",
    "df.iloc[9990] = new_row"
   ]
  },
  {
   "cell_type": "code",
   "execution_count": 12,
   "id": "50503bc4",
   "metadata": {},
   "outputs": [
    {
     "data": {
      "text/plain": [
       "App               Life Made WI-Fi Touchscreen Photo Frame\n",
       "Category                                              NaN\n",
       "Rating                                                1.9\n",
       "Reviews                                              19.0\n",
       "Size                                                 3.0M\n",
       "Installs                                           1,000+\n",
       "Type                                                 Free\n",
       "Price                                                   0\n",
       "Content Rating                                   Everyone\n",
       "Genres                                                NaN\n",
       "Last Updated                            February 11, 2018\n",
       "Current Ver                                        1.0.19\n",
       "Android Ver                                    4.0 and up\n",
       "Name: 9990, dtype: object"
      ]
     },
     "execution_count": 12,
     "metadata": {},
     "output_type": "execute_result"
    }
   ],
   "source": [
    "df.iloc[9990]"
   ]
  },
  {
   "cell_type": "markdown",
   "id": "59a532e7",
   "metadata": {},
   "source": [
    "- now all the values ends with 'e' which is varies with device will be replaced with NaN\n",
    "- the size column will be converted to float\n",
    "- The whole column will be in 'M' unit\n",
    "    - M = K / 1024"
   ]
  },
  {
   "cell_type": "code",
   "execution_count": 13,
   "id": "dd66a81b",
   "metadata": {},
   "outputs": [
    {
     "data": {
      "text/plain": [
       "3142     11.0\n",
       "7727     20.0\n",
       "438      56.0\n",
       "3491     63.0\n",
       "8980     48.0\n",
       "6300      3.8\n",
       "8360      2.9\n",
       "5800      3.8\n",
       "6641     15.0\n",
       "1498     69.0\n",
       "1950     92.0\n",
       "3632     13.0\n",
       "1898     22.0\n",
       "10086    17.0\n",
       "8557     40.0\n",
       "5780     43.0\n",
       "1824     13.0\n",
       "1752     99.0\n",
       "1013     68.0\n",
       "9516      5.8\n",
       "Name: Size, dtype: float64"
      ]
     },
     "execution_count": 13,
     "metadata": {},
     "output_type": "execute_result"
    }
   ],
   "source": [
    "def cleanSize(size):\n",
    "    if size.endswith('e'):\n",
    "        size = np.nan\n",
    "        return size\n",
    "    if size.endswith('k'):\n",
    "        size = float(size.strip('k')) / 1024\n",
    "        return size\n",
    "    size = float(size.strip('M'))\n",
    "    return size\n",
    "\n",
    "df['Size'] = df['Size'].apply(cleanSize)\n",
    "df['Size'].sample(20)"
   ]
  },
  {
   "cell_type": "code",
   "execution_count": 14,
   "id": "3f5a27a9",
   "metadata": {},
   "outputs": [
    {
     "data": {
      "text/plain": [
       "np.int64(1526)"
      ]
     },
     "execution_count": 14,
     "metadata": {},
     "output_type": "execute_result"
    }
   ],
   "source": [
    "df[\"Size\"].isna().sum()"
   ]
  },
  {
   "cell_type": "markdown",
   "id": "c01b40ce",
   "metadata": {},
   "source": [
    "- Now all the values of the Size column are float and in 'M' unit\n",
    "- There is 1527 null values in the Size column"
   ]
  },
  {
   "cell_type": "markdown",
   "id": "36954be3",
   "metadata": {},
   "source": [
    "### Converting the rest of numerical columns to float"
   ]
  },
  {
   "cell_type": "code",
   "execution_count": 15,
   "id": "712b0389",
   "metadata": {},
   "outputs": [
    {
     "data": {
      "text/plain": [
       "Price\n",
       "0          9593\n",
       "$0.99       146\n",
       "$2.99       125\n",
       "$1.99        73\n",
       "$4.99        70\n",
       "           ... \n",
       "$3.61         1\n",
       "$394.99       1\n",
       "$1.26         1\n",
       "$1.20         1\n",
       "$1.04         1\n",
       "Name: count, Length: 92, dtype: int64"
      ]
     },
     "execution_count": 15,
     "metadata": {},
     "output_type": "execute_result"
    }
   ],
   "source": [
    "df['Price'].value_counts()\n",
    "# this column is mostly zeros (Exactly 88%) but i will keep it cause it may give insights on other columns like intalls or rating\n"
   ]
  },
  {
   "cell_type": "code",
   "execution_count": 16,
   "id": "deab43d8",
   "metadata": {},
   "outputs": [
    {
     "data": {
      "text/plain": [
       "array(['0', '$4.99', '$3.99', '$6.99', '$1.49', '$2.99', '$7.99', '$5.99',\n",
       "       '$3.49', '$1.99', '$9.99', '$7.49', '$0.99', '$9.00', '$5.49',\n",
       "       '$10.00', '$24.99', '$11.99', '$79.99', '$16.99', '$14.99',\n",
       "       '$1.00', '$29.99', '$12.99', '$2.49', '$10.99', '$1.50', '$19.99',\n",
       "       '$15.99', '$33.99', '$74.99', '$39.99', '$3.95', '$4.49', '$1.70',\n",
       "       '$8.99', '$2.00', '$3.88', '$25.99', '$399.99', '$17.99',\n",
       "       '$400.00', '$3.02', '$1.76', '$4.84', '$4.77', '$1.61', '$2.50',\n",
       "       '$1.59', '$6.49', '$1.29', '$5.00', '$13.99', '$299.99', '$379.99',\n",
       "       '$37.99', '$18.99', '$389.99', '$19.90', '$8.49', '$1.75',\n",
       "       '$14.00', '$4.85', '$46.99', '$109.99', '$154.99', '$3.08',\n",
       "       '$2.59', '$4.80', '$1.96', '$19.40', '$3.90', '$4.59', '$15.46',\n",
       "       '$3.04', '$4.29', '$2.60', '$3.28', '$4.60', '$28.99', '$2.95',\n",
       "       '$2.90', '$1.97', '$200.00', '$89.99', '$2.56', '$30.99', '$3.61',\n",
       "       '$394.99', '$1.26', '$1.20', '$1.04'], dtype=object)"
      ]
     },
     "execution_count": 16,
     "metadata": {},
     "output_type": "execute_result"
    }
   ],
   "source": [
    "df[\"Price\"].unique()"
   ]
  },
  {
   "cell_type": "markdown",
   "id": "7e9d50fc",
   "metadata": {},
   "source": [
    "> the `Price` column is mostly zeros (Exactly 88%) but i will keep it cause it may give insights on other columns like installs or rating"
   ]
  },
  {
   "cell_type": "code",
   "execution_count": 17,
   "id": "f9988c5e",
   "metadata": {},
   "outputs": [
    {
     "data": {
      "text/plain": [
       "array([  0.  ,   4.99,   3.99,   6.99,   1.49,   2.99,   7.99,   5.99,\n",
       "         3.49,   1.99,   9.99,   7.49,   0.99,   9.  ,   5.49,  10.  ,\n",
       "        24.99,  11.99,  79.99,  16.99,  14.99,   1.  ,  29.99,  12.99,\n",
       "         2.49,  10.99,   1.5 ,  19.99,  15.99,  33.99,  74.99,  39.99,\n",
       "         3.95,   4.49,   1.7 ,   8.99,   2.  ,   3.88,  25.99, 399.99,\n",
       "        17.99, 400.  ,   3.02,   1.76,   4.84,   4.77,   1.61,   2.5 ,\n",
       "         1.59,   6.49,   1.29,   5.  ,  13.99, 299.99, 379.99,  37.99,\n",
       "        18.99, 389.99,  19.9 ,   8.49,   1.75,  14.  ,   4.85,  46.99,\n",
       "       109.99, 154.99,   3.08,   2.59,   4.8 ,   1.96,  19.4 ,   3.9 ,\n",
       "         4.59,  15.46,   3.04,   4.29,   2.6 ,   3.28,   4.6 ,  28.99,\n",
       "         2.95,   2.9 ,   1.97, 200.  ,  89.99,   2.56,  30.99,   3.61,\n",
       "       394.99,   1.26,   1.2 ,   1.04])"
      ]
     },
     "execution_count": 17,
     "metadata": {},
     "output_type": "execute_result"
    }
   ],
   "source": [
    "# Converting Price to float\n",
    "df[\"Price\"] = df[\"Price\"].apply(lambda x : float(x.strip('$')))\n",
    "df[\"Price\"].unique()"
   ]
  },
  {
   "cell_type": "code",
   "execution_count": 18,
   "id": "b00e8c14",
   "metadata": {},
   "outputs": [
    {
     "data": {
      "text/plain": [
       "0           159\n",
       "1           967\n",
       "2         87510\n",
       "3        215644\n",
       "4           967\n",
       "          ...  \n",
       "10353        38\n",
       "10354         4\n",
       "10355         3\n",
       "10356       114\n",
       "10357    398307\n",
       "Name: Reviews, Length: 10358, dtype: int64"
      ]
     },
     "execution_count": 18,
     "metadata": {},
     "output_type": "execute_result"
    }
   ],
   "source": [
    "# Converting Reviews column to float\n",
    "df[\"Reviews\"] = df['Reviews']. apply(lambda x : int(x))\n",
    "df[\"Reviews\"]"
   ]
  },
  {
   "cell_type": "code",
   "execution_count": 19,
   "id": "7d315811",
   "metadata": {},
   "outputs": [
    {
     "data": {
      "text/plain": [
       "array(['4.0.3 and up', '4.2 and up', '4.4 and up', '2.3 and up',\n",
       "       '3.0 and up', '4.1 and up', '4.0 and up', '2.3.3 and up',\n",
       "       'Varies with device', '2.2 and up', '5.0 and up', '6.0 and up',\n",
       "       '1.6 and up', '1.5 and up', '2.1 and up', '7.0 and up',\n",
       "       '5.1 and up', '4.3 and up', '4.0.3 - 7.1.1', '2.0 and up',\n",
       "       '3.2 and up', '4.4W and up', '7.1 and up', '7.0 - 7.1.1',\n",
       "       '8.0 and up', '5.0 - 8.0', '3.1 and up', '2.0.1 and up',\n",
       "       '4.1 - 7.1.1', nan, '5.0 - 6.0', '1.0 and up', '2.2 - 7.1.1',\n",
       "       '5.0 - 7.1.1'], dtype=object)"
      ]
     },
     "execution_count": 19,
     "metadata": {},
     "output_type": "execute_result"
    }
   ],
   "source": [
    "df[\"Android Ver\"].unique()"
   ]
  },
  {
   "cell_type": "markdown",
   "id": "acc2660c",
   "metadata": {},
   "source": [
    "> Here i will create a new column which contains only the minimum android version needed\n",
    "\n",
    "> Varies with device will be replaced with NaN"
   ]
  },
  {
   "cell_type": "code",
   "execution_count": 20,
   "id": "32ccdbc8",
   "metadata": {},
   "outputs": [],
   "source": [
    "df[\"Android Ver\"] = df[\"Android Ver\"].replace(\"Varies with device\", np.nan)\n",
    "df[\"min android ver\"] = df[\"Android Ver\"].str.split().str[0]"
   ]
  },
  {
   "cell_type": "code",
   "execution_count": 21,
   "id": "5b921ee0",
   "metadata": {},
   "outputs": [
    {
     "data": {
      "text/plain": [
       "array(['4.0.3', '4.2', '4.4', '2.3', '3.0', '4.1', '4.0', '2.3.3', nan,\n",
       "       '2.2', '5.0', '6.0', '1.6', '1.5', '2.1', '7.0', '5.1', '4.3',\n",
       "       '2.0', '3.2', '4.4W', '7.1', '8.0', '3.1', '2.0.1', '1.0'],\n",
       "      dtype=object)"
      ]
     },
     "execution_count": 21,
     "metadata": {},
     "output_type": "execute_result"
    }
   ],
   "source": [
    "df[\"min android ver\"].unique()"
   ]
  },
  {
   "cell_type": "code",
   "execution_count": 22,
   "id": "f925f40b",
   "metadata": {},
   "outputs": [
    {
     "data": {
      "text/plain": [
       "App                11\n",
       "Category           11\n",
       "Rating              5\n",
       "Reviews            11\n",
       "Size               11\n",
       "Installs           11\n",
       "Type               11\n",
       "Price              11\n",
       "Content Rating     11\n",
       "Genres             11\n",
       "Last Updated       11\n",
       "Current Ver        11\n",
       "Android Ver        11\n",
       "min android ver    11\n",
       "dtype: int64"
      ]
     },
     "execution_count": 22,
     "metadata": {},
     "output_type": "execute_result"
    }
   ],
   "source": [
    "df.loc[df[\"min android ver\"] == '4.4W'].count()"
   ]
  },
  {
   "cell_type": "markdown",
   "id": "18c129ad",
   "metadata": {},
   "source": [
    "> The android version \"4.4W\" is a valid android version which is 4.4 but for smart watches so i will convert it to normal 4.4 since they are only 11 rows out of 10841 row "
   ]
  },
  {
   "cell_type": "code",
   "execution_count": 23,
   "id": "566bc08a",
   "metadata": {},
   "outputs": [
    {
     "data": {
      "text/plain": [
       "array(['4.0.3', '4.2', '4.4', '2.3', '3.0', '4.1', '4.0', '2.3.3', nan,\n",
       "       '2.2', '5.0', '6.0', '1.6', '1.5', '2.1', '7.0', '5.1', '4.3',\n",
       "       '2.0', '3.2', '7.1', '8.0', '3.1', '2.0.1', '1.0'], dtype=object)"
      ]
     },
     "execution_count": 23,
     "metadata": {},
     "output_type": "execute_result"
    }
   ],
   "source": [
    "# fixing the value 4.4W\n",
    "df[\"min android ver\"] = df[\"min android ver\"].apply(lambda x: x.strip('W') if isinstance(x, str) else x)\n",
    "df[\"min android ver\"].unique()"
   ]
  },
  {
   "cell_type": "markdown",
   "id": "70549b09",
   "metadata": {},
   "source": [
    "> Converting it to float with neglecting the third number in the version since it is only the patch level not the version"
   ]
  },
  {
   "cell_type": "code",
   "execution_count": 24,
   "id": "280e876f",
   "metadata": {},
   "outputs": [
    {
     "data": {
      "text/plain": [
       "array([4. , 4.2, 4.4, 2.3, 3. , 4.1, nan, 2.2, 5. , 6. , 1.6, 1.5, 2.1,\n",
       "       7. , 5.1, 4.3, 2. , 3.2, 7.1, 8. , 3.1, 1. ])"
      ]
     },
     "execution_count": 24,
     "metadata": {},
     "output_type": "execute_result"
    }
   ],
   "source": [
    "df[\"min android ver\"] = df[\"min android ver\"].apply(lambda x: float('.'.join(x.split('.')[:2])) if isinstance(x, str) else x)\n",
    "df[\"min android ver\"].unique()"
   ]
  },
  {
   "cell_type": "markdown",
   "id": "c4e6e71c",
   "metadata": {},
   "source": [
    "> Converting rating to float"
   ]
  },
  {
   "cell_type": "code",
   "execution_count": 25,
   "id": "5553a78b",
   "metadata": {},
   "outputs": [
    {
     "name": "stdout",
     "output_type": "stream",
     "text": [
      "<class 'pandas.core.series.Series'>\n",
      "RangeIndex: 10358 entries, 0 to 10357\n",
      "Series name: Rating\n",
      "Non-Null Count  Dtype  \n",
      "--------------  -----  \n",
      "8893 non-null   float64\n",
      "dtypes: float64(1)\n",
      "memory usage: 81.1 KB\n"
     ]
    }
   ],
   "source": [
    "df[\"Rating\"] = df[\"Rating\"].astype(float)\n",
    "df[\"Rating\"].info()"
   ]
  },
  {
   "cell_type": "markdown",
   "id": "8f4a1941",
   "metadata": {},
   "source": [
    "> Converting Installs column in another column called `installs range`"
   ]
  },
  {
   "cell_type": "code",
   "execution_count": 26,
   "id": "3ab27f22",
   "metadata": {},
   "outputs": [
    {
     "data": {
      "text/plain": [
       "array(['10,000+', '500,000+', '5,000,000+', '50,000,000+', '100,000+',\n",
       "       '50,000+', '1,000,000+', '10,000,000+', '5,000+', '100,000,000+',\n",
       "       '1,000,000,000+', '1,000+', '500,000,000+', '50+', '100+', '500+',\n",
       "       '10+', '1+', '5+', '0+', '0'], dtype=object)"
      ]
     },
     "execution_count": 26,
     "metadata": {},
     "output_type": "execute_result"
    }
   ],
   "source": [
    "df[\"Installs\"].unique()"
   ]
  },
  {
   "cell_type": "code",
   "execution_count": 27,
   "id": "0006fcd2",
   "metadata": {},
   "outputs": [
    {
     "data": {
      "text/plain": [
       "0           10000\n",
       "1          500000\n",
       "2         5000000\n",
       "3        50000000\n",
       "4          100000\n",
       "           ...   \n",
       "10353        5000\n",
       "10354         100\n",
       "10355        1000\n",
       "10356        1000\n",
       "10357    10000000\n",
       "Name: installs range, Length: 10358, dtype: int64"
      ]
     },
     "execution_count": 27,
     "metadata": {},
     "output_type": "execute_result"
    }
   ],
   "source": [
    "df[\"installs range\"] = df[\"Installs\"].str.strip('+').str.replace(',', '').astype(int)\n",
    "df[\"installs range\"]"
   ]
  },
  {
   "cell_type": "markdown",
   "id": "8c3930bb",
   "metadata": {},
   "source": [
    "### Converting `Last Updated` to date"
   ]
  },
  {
   "cell_type": "code",
   "execution_count": 28,
   "id": "6b63529a",
   "metadata": {},
   "outputs": [
    {
     "data": {
      "text/plain": [
       "0       2018-01-07\n",
       "1       2018-01-15\n",
       "2       2018-08-01\n",
       "3       2018-06-08\n",
       "4       2018-06-20\n",
       "           ...    \n",
       "10353   2017-07-25\n",
       "10354   2018-07-06\n",
       "10355   2017-01-20\n",
       "10356   2015-01-19\n",
       "10357   2018-07-25\n",
       "Name: Last Updated, Length: 10358, dtype: datetime64[ns]"
      ]
     },
     "execution_count": 28,
     "metadata": {},
     "output_type": "execute_result"
    }
   ],
   "source": [
    "df[\"Last Updated\"] = pd.to_datetime(df[\"Last Updated\"])\n",
    "df[\"Last Updated\"]"
   ]
  },
  {
   "cell_type": "code",
   "execution_count": 29,
   "id": "f40a7459",
   "metadata": {},
   "outputs": [
    {
     "name": "stdout",
     "output_type": "stream",
     "text": [
      "<class 'pandas.core.frame.DataFrame'>\n",
      "RangeIndex: 10358 entries, 0 to 10357\n",
      "Data columns (total 15 columns):\n",
      " #   Column           Non-Null Count  Dtype         \n",
      "---  ------           --------------  -----         \n",
      " 0   App              10358 non-null  object        \n",
      " 1   Category         10357 non-null  object        \n",
      " 2   Rating           8893 non-null   float64       \n",
      " 3   Reviews          10358 non-null  int64         \n",
      " 4   Size             8832 non-null   float64       \n",
      " 5   Installs         10358 non-null  object        \n",
      " 6   Type             10357 non-null  object        \n",
      " 7   Price            10358 non-null  float64       \n",
      " 8   Content Rating   10358 non-null  object        \n",
      " 9   Genres           10357 non-null  object        \n",
      " 10  Last Updated     10358 non-null  datetime64[ns]\n",
      " 11  Current Ver      10350 non-null  object        \n",
      " 12  Android Ver      9135 non-null   object        \n",
      " 13  min android ver  9135 non-null   float64       \n",
      " 14  installs range   10358 non-null  int64         \n",
      "dtypes: datetime64[ns](1), float64(4), int64(2), object(8)\n",
      "memory usage: 1.2+ MB\n"
     ]
    }
   ],
   "source": [
    "df.info()"
   ]
  },
  {
   "cell_type": "code",
   "execution_count": 30,
   "id": "0f0c99a5",
   "metadata": {},
   "outputs": [
    {
     "data": {
      "text/html": [
       "<div>\n",
       "<style scoped>\n",
       "    .dataframe tbody tr th:only-of-type {\n",
       "        vertical-align: middle;\n",
       "    }\n",
       "\n",
       "    .dataframe tbody tr th {\n",
       "        vertical-align: top;\n",
       "    }\n",
       "\n",
       "    .dataframe thead th {\n",
       "        text-align: right;\n",
       "    }\n",
       "</style>\n",
       "<table border=\"1\" class=\"dataframe\">\n",
       "  <thead>\n",
       "    <tr style=\"text-align: right;\">\n",
       "      <th></th>\n",
       "      <th>Rating</th>\n",
       "      <th>Reviews</th>\n",
       "      <th>Size</th>\n",
       "      <th>Price</th>\n",
       "      <th>Last Updated</th>\n",
       "      <th>min android ver</th>\n",
       "      <th>installs range</th>\n",
       "    </tr>\n",
       "  </thead>\n",
       "  <tbody>\n",
       "    <tr>\n",
       "      <th>count</th>\n",
       "      <td>8893.000000</td>\n",
       "      <td>1.035800e+04</td>\n",
       "      <td>8832.000000</td>\n",
       "      <td>10358.000000</td>\n",
       "      <td>10358</td>\n",
       "      <td>9135.000000</td>\n",
       "      <td>1.035800e+04</td>\n",
       "    </tr>\n",
       "    <tr>\n",
       "      <th>mean</th>\n",
       "      <td>4.187619</td>\n",
       "      <td>4.058654e+05</td>\n",
       "      <td>21.285343</td>\n",
       "      <td>1.030701</td>\n",
       "      <td>2017-11-14 09:37:38.428268032</td>\n",
       "      <td>3.853432</td>\n",
       "      <td>1.415639e+07</td>\n",
       "    </tr>\n",
       "    <tr>\n",
       "      <th>min</th>\n",
       "      <td>1.000000</td>\n",
       "      <td>0.000000e+00</td>\n",
       "      <td>0.008301</td>\n",
       "      <td>0.000000</td>\n",
       "      <td>2010-05-21 00:00:00</td>\n",
       "      <td>1.000000</td>\n",
       "      <td>0.000000e+00</td>\n",
       "    </tr>\n",
       "    <tr>\n",
       "      <th>25%</th>\n",
       "      <td>4.000000</td>\n",
       "      <td>3.200000e+01</td>\n",
       "      <td>4.700000</td>\n",
       "      <td>0.000000</td>\n",
       "      <td>2017-09-03 00:00:00</td>\n",
       "      <td>4.000000</td>\n",
       "      <td>1.000000e+03</td>\n",
       "    </tr>\n",
       "    <tr>\n",
       "      <th>50%</th>\n",
       "      <td>4.300000</td>\n",
       "      <td>1.678500e+03</td>\n",
       "      <td>13.000000</td>\n",
       "      <td>0.000000</td>\n",
       "      <td>2018-05-20 00:00:00</td>\n",
       "      <td>4.100000</td>\n",
       "      <td>1.000000e+05</td>\n",
       "    </tr>\n",
       "    <tr>\n",
       "      <th>75%</th>\n",
       "      <td>4.500000</td>\n",
       "      <td>4.640425e+04</td>\n",
       "      <td>29.000000</td>\n",
       "      <td>0.000000</td>\n",
       "      <td>2018-07-19 00:00:00</td>\n",
       "      <td>4.100000</td>\n",
       "      <td>1.000000e+06</td>\n",
       "    </tr>\n",
       "    <tr>\n",
       "      <th>max</th>\n",
       "      <td>5.000000</td>\n",
       "      <td>7.815831e+07</td>\n",
       "      <td>100.000000</td>\n",
       "      <td>400.000000</td>\n",
       "      <td>2018-08-08 00:00:00</td>\n",
       "      <td>8.000000</td>\n",
       "      <td>1.000000e+09</td>\n",
       "    </tr>\n",
       "    <tr>\n",
       "      <th>std</th>\n",
       "      <td>0.522910</td>\n",
       "      <td>2.696651e+06</td>\n",
       "      <td>22.540155</td>\n",
       "      <td>16.277843</td>\n",
       "      <td>NaN</td>\n",
       "      <td>0.842739</td>\n",
       "      <td>8.023580e+07</td>\n",
       "    </tr>\n",
       "  </tbody>\n",
       "</table>\n",
       "</div>"
      ],
      "text/plain": [
       "            Rating       Reviews         Size         Price  \\\n",
       "count  8893.000000  1.035800e+04  8832.000000  10358.000000   \n",
       "mean      4.187619  4.058654e+05    21.285343      1.030701   \n",
       "min       1.000000  0.000000e+00     0.008301      0.000000   \n",
       "25%       4.000000  3.200000e+01     4.700000      0.000000   \n",
       "50%       4.300000  1.678500e+03    13.000000      0.000000   \n",
       "75%       4.500000  4.640425e+04    29.000000      0.000000   \n",
       "max       5.000000  7.815831e+07   100.000000    400.000000   \n",
       "std       0.522910  2.696651e+06    22.540155     16.277843   \n",
       "\n",
       "                        Last Updated  min android ver  installs range  \n",
       "count                          10358      9135.000000    1.035800e+04  \n",
       "mean   2017-11-14 09:37:38.428268032         3.853432    1.415639e+07  \n",
       "min              2010-05-21 00:00:00         1.000000    0.000000e+00  \n",
       "25%              2017-09-03 00:00:00         4.000000    1.000000e+03  \n",
       "50%              2018-05-20 00:00:00         4.100000    1.000000e+05  \n",
       "75%              2018-07-19 00:00:00         4.100000    1.000000e+06  \n",
       "max              2018-08-08 00:00:00         8.000000    1.000000e+09  \n",
       "std                              NaN         0.842739    8.023580e+07  "
      ]
     },
     "execution_count": 30,
     "metadata": {},
     "output_type": "execute_result"
    }
   ],
   "source": [
    "df.describe()"
   ]
  },
  {
   "cell_type": "markdown",
   "id": "eaea7d7c",
   "metadata": {},
   "source": [
    "### Checking Consistency in categorical columns"
   ]
  },
  {
   "cell_type": "markdown",
   "id": "05569ba4",
   "metadata": {},
   "source": [
    "##### Checking `Category` with it's nulls"
   ]
  },
  {
   "cell_type": "code",
   "execution_count": 31,
   "id": "6b495c5c",
   "metadata": {},
   "outputs": [
    {
     "data": {
      "text/plain": [
       "array(['ART_AND_DESIGN', 'AUTO_AND_VEHICLES', 'BEAUTY',\n",
       "       'BOOKS_AND_REFERENCE', 'BUSINESS', 'COMICS', 'COMMUNICATION',\n",
       "       'DATING', 'EDUCATION', 'ENTERTAINMENT', 'EVENTS', 'FINANCE',\n",
       "       'FOOD_AND_DRINK', 'HEALTH_AND_FITNESS', 'HOUSE_AND_HOME',\n",
       "       'LIBRARIES_AND_DEMO', 'LIFESTYLE', 'GAME', 'FAMILY', 'MEDICAL',\n",
       "       'SOCIAL', 'SHOPPING', 'PHOTOGRAPHY', 'SPORTS', 'TRAVEL_AND_LOCAL',\n",
       "       'TOOLS', 'PERSONALIZATION', 'PRODUCTIVITY', 'PARENTING', 'WEATHER',\n",
       "       'VIDEO_PLAYERS', 'NEWS_AND_MAGAZINES', 'MAPS_AND_NAVIGATION', nan],\n",
       "      dtype=object)"
      ]
     },
     "execution_count": 31,
     "metadata": {},
     "output_type": "execute_result"
    }
   ],
   "source": [
    "df[\"Category\"].unique()"
   ]
  },
  {
   "cell_type": "code",
   "execution_count": 32,
   "id": "317529fc",
   "metadata": {},
   "outputs": [
    {
     "data": {
      "text/html": [
       "<div>\n",
       "<style scoped>\n",
       "    .dataframe tbody tr th:only-of-type {\n",
       "        vertical-align: middle;\n",
       "    }\n",
       "\n",
       "    .dataframe tbody tr th {\n",
       "        vertical-align: top;\n",
       "    }\n",
       "\n",
       "    .dataframe thead th {\n",
       "        text-align: right;\n",
       "    }\n",
       "</style>\n",
       "<table border=\"1\" class=\"dataframe\">\n",
       "  <thead>\n",
       "    <tr style=\"text-align: right;\">\n",
       "      <th></th>\n",
       "      <th>App</th>\n",
       "      <th>Category</th>\n",
       "      <th>Rating</th>\n",
       "      <th>Reviews</th>\n",
       "      <th>Size</th>\n",
       "      <th>Installs</th>\n",
       "      <th>Type</th>\n",
       "      <th>Price</th>\n",
       "      <th>Content Rating</th>\n",
       "      <th>Genres</th>\n",
       "      <th>Last Updated</th>\n",
       "      <th>Current Ver</th>\n",
       "      <th>Android Ver</th>\n",
       "      <th>min android ver</th>\n",
       "      <th>installs range</th>\n",
       "    </tr>\n",
       "  </thead>\n",
       "  <tbody>\n",
       "    <tr>\n",
       "      <th>9990</th>\n",
       "      <td>Life Made WI-Fi Touchscreen Photo Frame</td>\n",
       "      <td>NaN</td>\n",
       "      <td>1.9</td>\n",
       "      <td>19</td>\n",
       "      <td>3.0</td>\n",
       "      <td>1,000+</td>\n",
       "      <td>Free</td>\n",
       "      <td>0.0</td>\n",
       "      <td>Everyone</td>\n",
       "      <td>NaN</td>\n",
       "      <td>2018-02-11</td>\n",
       "      <td>1.0.19</td>\n",
       "      <td>4.0 and up</td>\n",
       "      <td>4.0</td>\n",
       "      <td>1000</td>\n",
       "    </tr>\n",
       "  </tbody>\n",
       "</table>\n",
       "</div>"
      ],
      "text/plain": [
       "                                          App Category  Rating  Reviews  Size  \\\n",
       "9990  Life Made WI-Fi Touchscreen Photo Frame      NaN     1.9       19   3.0   \n",
       "\n",
       "     Installs  Type  Price Content Rating Genres Last Updated Current Ver  \\\n",
       "9990   1,000+  Free    0.0       Everyone    NaN   2018-02-11      1.0.19   \n",
       "\n",
       "     Android Ver  min android ver  installs range  \n",
       "9990  4.0 and up              4.0            1000  "
      ]
     },
     "execution_count": 32,
     "metadata": {},
     "output_type": "execute_result"
    }
   ],
   "source": [
    "df.loc[df[\"Category\"].isna()]"
   ]
  },
  {
   "cell_type": "markdown",
   "id": "e3a3b2cd",
   "metadata": {},
   "source": [
    "##### Checking `Type` with it's nulls"
   ]
  },
  {
   "cell_type": "code",
   "execution_count": 33,
   "id": "320760f9",
   "metadata": {},
   "outputs": [
    {
     "data": {
      "text/plain": [
       "array(['Free', 'Paid', nan], dtype=object)"
      ]
     },
     "execution_count": 33,
     "metadata": {},
     "output_type": "execute_result"
    }
   ],
   "source": [
    "df[\"Type\"].unique()"
   ]
  },
  {
   "cell_type": "code",
   "execution_count": 34,
   "id": "9db6f0dc",
   "metadata": {},
   "outputs": [
    {
     "data": {
      "text/html": [
       "<div>\n",
       "<style scoped>\n",
       "    .dataframe tbody tr th:only-of-type {\n",
       "        vertical-align: middle;\n",
       "    }\n",
       "\n",
       "    .dataframe tbody tr th {\n",
       "        vertical-align: top;\n",
       "    }\n",
       "\n",
       "    .dataframe thead th {\n",
       "        text-align: right;\n",
       "    }\n",
       "</style>\n",
       "<table border=\"1\" class=\"dataframe\">\n",
       "  <thead>\n",
       "    <tr style=\"text-align: right;\">\n",
       "      <th></th>\n",
       "      <th>App</th>\n",
       "      <th>Category</th>\n",
       "      <th>Rating</th>\n",
       "      <th>Reviews</th>\n",
       "      <th>Size</th>\n",
       "      <th>Installs</th>\n",
       "      <th>Type</th>\n",
       "      <th>Price</th>\n",
       "      <th>Content Rating</th>\n",
       "      <th>Genres</th>\n",
       "      <th>Last Updated</th>\n",
       "      <th>Current Ver</th>\n",
       "      <th>Android Ver</th>\n",
       "      <th>min android ver</th>\n",
       "      <th>installs range</th>\n",
       "    </tr>\n",
       "  </thead>\n",
       "  <tbody>\n",
       "    <tr>\n",
       "      <th>8667</th>\n",
       "      <td>Command &amp; Conquer: Rivals</td>\n",
       "      <td>FAMILY</td>\n",
       "      <td>NaN</td>\n",
       "      <td>0</td>\n",
       "      <td>NaN</td>\n",
       "      <td>0</td>\n",
       "      <td>NaN</td>\n",
       "      <td>0.0</td>\n",
       "      <td>Everyone 10+</td>\n",
       "      <td>Strategy</td>\n",
       "      <td>2018-06-28</td>\n",
       "      <td>Varies with device</td>\n",
       "      <td>NaN</td>\n",
       "      <td>NaN</td>\n",
       "      <td>0</td>\n",
       "    </tr>\n",
       "  </tbody>\n",
       "</table>\n",
       "</div>"
      ],
      "text/plain": [
       "                            App Category  Rating  Reviews  Size Installs Type  \\\n",
       "8667  Command & Conquer: Rivals   FAMILY     NaN        0   NaN        0  NaN   \n",
       "\n",
       "      Price Content Rating    Genres Last Updated         Current Ver  \\\n",
       "8667    0.0   Everyone 10+  Strategy   2018-06-28  Varies with device   \n",
       "\n",
       "     Android Ver  min android ver  installs range  \n",
       "8667         NaN              NaN               0  "
      ]
     },
     "execution_count": 34,
     "metadata": {},
     "output_type": "execute_result"
    }
   ],
   "source": [
    "df.loc[df[\"Type\"].isna()]"
   ]
  },
  {
   "cell_type": "markdown",
   "id": "465514f4",
   "metadata": {},
   "source": [
    "##### Checking `Content Rating` with it's nulls"
   ]
  },
  {
   "cell_type": "code",
   "execution_count": 35,
   "id": "d1063d94",
   "metadata": {},
   "outputs": [
    {
     "data": {
      "text/plain": [
       "array(['Everyone', 'Teen', 'Everyone 10+', 'Mature 17+',\n",
       "       'Adults only 18+', 'Unrated'], dtype=object)"
      ]
     },
     "execution_count": 35,
     "metadata": {},
     "output_type": "execute_result"
    }
   ],
   "source": [
    "df[\"Content Rating\"].unique()"
   ]
  },
  {
   "cell_type": "markdown",
   "id": "53f839fe",
   "metadata": {},
   "source": [
    "##### Checking `Genres` with it's nulls"
   ]
  },
  {
   "cell_type": "code",
   "execution_count": 36,
   "id": "a6567a18",
   "metadata": {},
   "outputs": [
    {
     "data": {
      "text/plain": [
       "array(['Art & Design', 'Art & Design;Pretend Play',\n",
       "       'Art & Design;Creativity', 'Art & Design;Action & Adventure',\n",
       "       'Auto & Vehicles', 'Beauty', 'Books & Reference', 'Business',\n",
       "       'Comics', 'Comics;Creativity', 'Communication', 'Dating',\n",
       "       'Education;Education', 'Education', 'Education;Creativity',\n",
       "       'Education;Music & Video', 'Education;Action & Adventure',\n",
       "       'Education;Pretend Play', 'Education;Brain Games', 'Entertainment',\n",
       "       'Entertainment;Music & Video', 'Entertainment;Brain Games',\n",
       "       'Entertainment;Creativity', 'Events', 'Finance', 'Food & Drink',\n",
       "       'Health & Fitness', 'House & Home', 'Libraries & Demo',\n",
       "       'Lifestyle', 'Lifestyle;Pretend Play',\n",
       "       'Adventure;Action & Adventure', 'Arcade', 'Casual', 'Card',\n",
       "       'Casual;Pretend Play', 'Action', 'Strategy', 'Puzzle', 'Sports',\n",
       "       'Music', 'Word', 'Racing', 'Casual;Creativity',\n",
       "       'Casual;Action & Adventure', 'Simulation', 'Adventure', 'Board',\n",
       "       'Trivia', 'Role Playing', 'Simulation;Education',\n",
       "       'Action;Action & Adventure', 'Casual;Brain Games',\n",
       "       'Simulation;Action & Adventure', 'Educational;Creativity',\n",
       "       'Puzzle;Brain Games', 'Educational;Education', 'Card;Brain Games',\n",
       "       'Educational;Brain Games', 'Educational;Pretend Play',\n",
       "       'Entertainment;Education', 'Casual;Education',\n",
       "       'Music;Music & Video', 'Racing;Action & Adventure',\n",
       "       'Arcade;Pretend Play', 'Role Playing;Action & Adventure',\n",
       "       'Simulation;Pretend Play', 'Puzzle;Creativity',\n",
       "       'Sports;Action & Adventure', 'Educational;Action & Adventure',\n",
       "       'Arcade;Action & Adventure', 'Entertainment;Action & Adventure',\n",
       "       'Puzzle;Action & Adventure', 'Strategy;Action & Adventure',\n",
       "       'Music & Audio;Music & Video', 'Health & Fitness;Education',\n",
       "       'Adventure;Education', 'Board;Brain Games',\n",
       "       'Board;Action & Adventure', 'Board;Pretend Play',\n",
       "       'Casual;Music & Video', 'Role Playing;Pretend Play',\n",
       "       'Entertainment;Pretend Play', 'Video Players & Editors;Creativity',\n",
       "       'Card;Action & Adventure', 'Medical', 'Social', 'Shopping',\n",
       "       'Photography', 'Travel & Local',\n",
       "       'Travel & Local;Action & Adventure', 'Tools', 'Tools;Education',\n",
       "       'Personalization', 'Productivity', 'Parenting',\n",
       "       'Parenting;Music & Video', 'Parenting;Education',\n",
       "       'Parenting;Brain Games', 'Weather', 'Video Players & Editors',\n",
       "       'Video Players & Editors;Music & Video', 'News & Magazines',\n",
       "       'Maps & Navigation', 'Health & Fitness;Action & Adventure',\n",
       "       'Educational', 'Casino', 'Adventure;Brain Games',\n",
       "       'Trivia;Education', 'Lifestyle;Education',\n",
       "       'Books & Reference;Creativity', 'Books & Reference;Education',\n",
       "       'Puzzle;Education', 'Role Playing;Education',\n",
       "       'Role Playing;Brain Games', 'Strategy;Education',\n",
       "       'Racing;Pretend Play', 'Communication;Creativity', nan,\n",
       "       'Strategy;Creativity'], dtype=object)"
      ]
     },
     "execution_count": 36,
     "metadata": {},
     "output_type": "execute_result"
    }
   ],
   "source": [
    "df[\"Genres\"].unique()"
   ]
  },
  {
   "cell_type": "code",
   "execution_count": 37,
   "id": "8407604f",
   "metadata": {},
   "outputs": [
    {
     "data": {
      "text/html": [
       "<div>\n",
       "<style scoped>\n",
       "    .dataframe tbody tr th:only-of-type {\n",
       "        vertical-align: middle;\n",
       "    }\n",
       "\n",
       "    .dataframe tbody tr th {\n",
       "        vertical-align: top;\n",
       "    }\n",
       "\n",
       "    .dataframe thead th {\n",
       "        text-align: right;\n",
       "    }\n",
       "</style>\n",
       "<table border=\"1\" class=\"dataframe\">\n",
       "  <thead>\n",
       "    <tr style=\"text-align: right;\">\n",
       "      <th></th>\n",
       "      <th>App</th>\n",
       "      <th>Category</th>\n",
       "      <th>Rating</th>\n",
       "      <th>Reviews</th>\n",
       "      <th>Size</th>\n",
       "      <th>Installs</th>\n",
       "      <th>Type</th>\n",
       "      <th>Price</th>\n",
       "      <th>Content Rating</th>\n",
       "      <th>Genres</th>\n",
       "      <th>Last Updated</th>\n",
       "      <th>Current Ver</th>\n",
       "      <th>Android Ver</th>\n",
       "      <th>min android ver</th>\n",
       "      <th>installs range</th>\n",
       "    </tr>\n",
       "  </thead>\n",
       "  <tbody>\n",
       "    <tr>\n",
       "      <th>9990</th>\n",
       "      <td>Life Made WI-Fi Touchscreen Photo Frame</td>\n",
       "      <td>NaN</td>\n",
       "      <td>1.9</td>\n",
       "      <td>19</td>\n",
       "      <td>3.0</td>\n",
       "      <td>1,000+</td>\n",
       "      <td>Free</td>\n",
       "      <td>0.0</td>\n",
       "      <td>Everyone</td>\n",
       "      <td>NaN</td>\n",
       "      <td>2018-02-11</td>\n",
       "      <td>1.0.19</td>\n",
       "      <td>4.0 and up</td>\n",
       "      <td>4.0</td>\n",
       "      <td>1000</td>\n",
       "    </tr>\n",
       "  </tbody>\n",
       "</table>\n",
       "</div>"
      ],
      "text/plain": [
       "                                          App Category  Rating  Reviews  Size  \\\n",
       "9990  Life Made WI-Fi Touchscreen Photo Frame      NaN     1.9       19   3.0   \n",
       "\n",
       "     Installs  Type  Price Content Rating Genres Last Updated Current Ver  \\\n",
       "9990   1,000+  Free    0.0       Everyone    NaN   2018-02-11      1.0.19   \n",
       "\n",
       "     Android Ver  min android ver  installs range  \n",
       "9990  4.0 and up              4.0            1000  "
      ]
     },
     "execution_count": 37,
     "metadata": {},
     "output_type": "execute_result"
    }
   ],
   "source": [
    "df.loc[df[\"Genres\"].isna()]"
   ]
  },
  {
   "cell_type": "markdown",
   "id": "315f875b",
   "metadata": {},
   "source": [
    "> Converting `Genres` column to hold lists of genres since they are separated with ';'"
   ]
  },
  {
   "cell_type": "code",
   "execution_count": 38,
   "id": "8096a854",
   "metadata": {},
   "outputs": [
    {
     "data": {
      "text/plain": [
       "884                       [Events]\n",
       "6055            [Libraries & Demo]\n",
       "6032                      [Sports]\n",
       "9458           [Maps & Navigation]\n",
       "5575                     [Finance]\n",
       "142            [Books & Reference]\n",
       "3270     [Video Players & Editors]\n",
       "3469                      [Sports]\n",
       "7298                  [Simulation]\n",
       "7893                    [Business]\n",
       "2479                 [Photography]\n",
       "7390                     [Medical]\n",
       "928                      [Finance]\n",
       "5670             [Auto & Vehicles]\n",
       "1690                      [Action]\n",
       "2329                      [Social]\n",
       "1524                      [Arcade]\n",
       "9471           [Maps & Navigation]\n",
       "10232                     [Social]\n",
       "4650                    [Business]\n",
       "Name: Genres, dtype: object"
      ]
     },
     "execution_count": 38,
     "metadata": {},
     "output_type": "execute_result"
    }
   ],
   "source": [
    "df[\"Genres\"] = df[\"Genres\"].str.split(';')\n",
    "df[\"Genres\"].sample(20)"
   ]
  },
  {
   "cell_type": "markdown",
   "id": "af04b048",
   "metadata": {},
   "source": [
    "> Dropping the nulls of these columns since they have only one null per column"
   ]
  },
  {
   "cell_type": "code",
   "execution_count": 39,
   "id": "3d3bf714",
   "metadata": {},
   "outputs": [],
   "source": [
    "df = df.dropna(subset=(['Category', \"Type\", \"Genres\"]))"
   ]
  },
  {
   "cell_type": "code",
   "execution_count": 40,
   "id": "cd968059",
   "metadata": {},
   "outputs": [
    {
     "name": "stdout",
     "output_type": "stream",
     "text": [
      "<class 'pandas.core.frame.DataFrame'>\n",
      "Index: 10356 entries, 0 to 10357\n",
      "Data columns (total 15 columns):\n",
      " #   Column           Non-Null Count  Dtype         \n",
      "---  ------           --------------  -----         \n",
      " 0   App              10356 non-null  object        \n",
      " 1   Category         10356 non-null  object        \n",
      " 2   Rating           8892 non-null   float64       \n",
      " 3   Reviews          10356 non-null  int64         \n",
      " 4   Size             8831 non-null   float64       \n",
      " 5   Installs         10356 non-null  object        \n",
      " 6   Type             10356 non-null  object        \n",
      " 7   Price            10356 non-null  float64       \n",
      " 8   Content Rating   10356 non-null  object        \n",
      " 9   Genres           10356 non-null  object        \n",
      " 10  Last Updated     10356 non-null  datetime64[ns]\n",
      " 11  Current Ver      10348 non-null  object        \n",
      " 12  Android Ver      9134 non-null   object        \n",
      " 13  min android ver  9134 non-null   float64       \n",
      " 14  installs range   10356 non-null  int64         \n",
      "dtypes: datetime64[ns](1), float64(4), int64(2), object(8)\n",
      "memory usage: 1.3+ MB\n"
     ]
    }
   ],
   "source": [
    "df.info()"
   ]
  },
  {
   "cell_type": "code",
   "execution_count": 41,
   "id": "6a713a7b",
   "metadata": {},
   "outputs": [
    {
     "data": {
      "text/plain": [
       "1627                 2.21.1\n",
       "6766               1.0.9.10\n",
       "5033                   3.30\n",
       "3697                      1\n",
       "1850                    149\n",
       "3345                  3.1.9\n",
       "4492                  1.0.5\n",
       "10263                 1.0.2\n",
       "2772                 4.0.21\n",
       "3653                   1.09\n",
       "6504               6.6.3106\n",
       "5                       1.0\n",
       "7888                    2.0\n",
       "10304                   1.2\n",
       "9077                    2.4\n",
       "1188     Varies with device\n",
       "4891                    1.1\n",
       "4664                  1.0.2\n",
       "3362                  9.2.3\n",
       "4145     Varies with device\n",
       "Name: Current Ver, dtype: object"
      ]
     },
     "execution_count": 41,
     "metadata": {},
     "output_type": "execute_result"
    }
   ],
   "source": [
    "df[\"Current Ver\"].sample(20)"
   ]
  },
  {
   "cell_type": "code",
   "execution_count": 42,
   "id": "c9fc5fe7",
   "metadata": {},
   "outputs": [],
   "source": [
    "df[\"Current Ver\"] = df[\"Current Ver\"].replace(\"Varies with device\", np.nan)"
   ]
  }
 ],
 "metadata": {
  "kernelspec": {
   "display_name": "base",
   "language": "python",
   "name": "python3"
  },
  "language_info": {
   "codemirror_mode": {
    "name": "ipython",
    "version": 3
   },
   "file_extension": ".py",
   "mimetype": "text/x-python",
   "name": "python",
   "nbconvert_exporter": "python",
   "pygments_lexer": "ipython3",
   "version": "3.13.5"
  }
 },
 "nbformat": 4,
 "nbformat_minor": 5
}
